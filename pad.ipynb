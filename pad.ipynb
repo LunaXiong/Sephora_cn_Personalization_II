{
 "cells": [
  {
   "cell_type": "code",
   "execution_count": 1,
   "metadata": {
    "collapsed": true,
    "pycharm": {
     "is_executing": false
    }
   },
   "outputs": [],
   "source": [
    "from gensim.models.word2vec import Word2Vec"
   ]
  },
  {
   "cell_type": "code",
   "execution_count": 2,
   "metadata": {
    "pycharm": {
     "name": "#%%\n"
    }
   },
   "outputs": [],
   "source": [
    "mod = Word2Vec.load('./data/query_w2v_full')"
   ]
  },
  {
   "cell_type": "code",
   "execution_count": 3,
   "metadata": {},
   "outputs": [],
   "source": [
    "w = '阿玛尼'"
   ]
  },
  {
   "cell_type": "code",
   "execution_count": 11,
   "metadata": {},
   "outputs": [
    {
     "name": "stdout",
     "output_type": "stream",
     "text": [
      "Vocab(code:array([1, 1, 0, 1, 1, 0, 0], dtype=uint8), count:143524, index:16, point:array([4461, 4460, 4458, 4453, 4444, 4426, 4394], dtype=uint32), sample_int:1824630716)\n"
     ]
    }
   ],
   "source": [
    "print(mod.wv.vocab[w])"
   ]
  },
  {
   "cell_type": "code",
   "execution_count": 14,
   "metadata": {},
   "outputs": [
    {
     "data": {
      "text/plain": [
       "array([ 0.6723973 ,  1.1899338 ,  0.54639024,  0.36761123, -0.39272285,\n",
       "       -0.2893192 ,  0.04393337,  0.10474481,  0.18901512, -0.06867208,\n",
       "       -0.07419112,  0.68368596,  0.47063917, -0.2835935 ,  0.16627954,\n",
       "       -0.02366057,  0.6115177 , -0.3028179 , -0.56735563,  0.54261607,\n",
       "       -0.20064773,  0.3982729 , -0.04807221,  0.3145574 ,  0.81344235,\n",
       "        0.3855665 , -0.75982094,  0.04541324,  0.02255231,  0.5049848 ,\n",
       "       -0.5136771 ,  0.57396734,  0.40755755,  0.17073667, -0.90322703,\n",
       "       -0.17221683, -0.18236524, -0.29724282,  0.52427626,  0.04284782,\n",
       "        0.90994704,  0.51351184, -0.05825731,  0.25557703,  0.5575688 ,\n",
       "       -0.32718197,  0.3642756 , -0.34034696, -0.44567397,  0.06077582,\n",
       "        0.5528495 , -0.20257305, -0.8756411 , -0.00674681, -0.15739247,\n",
       "        0.00863661,  0.7084199 ,  0.65326464, -0.43981305, -0.5500058 ,\n",
       "        0.25584042, -0.692352  ,  0.7993814 ,  0.09466457], dtype=float32)"
      ]
     },
     "execution_count": 14,
     "metadata": {},
     "output_type": "execute_result"
    }
   ],
   "source": [
    "mod.wv[w]"
   ]
  },
  {
   "cell_type": "code",
   "execution_count": 17,
   "metadata": {},
   "outputs": [],
   "source": [
    "p = mod.wv.vocab[w].point"
   ]
  },
  {
   "cell_type": "code",
   "execution_count": 20,
   "metadata": {},
   "outputs": [
    {
     "data": {
      "text/plain": [
       "array([-1.5481684 ,  0.6207217 ,  0.04987562, -0.24726552, -0.86243635,\n",
       "       -1.4614766 , -1.4506423 ,  2.0625052 ,  1.3480074 , -1.1383483 ,\n",
       "        1.0896285 , -1.1189784 , -1.5696769 ,  0.5120771 ,  0.21122903,\n",
       "        0.00583029, -2.6064265 , -1.3840814 ,  0.275135  , -1.2558898 ,\n",
       "       -0.7149647 , -0.07537234,  1.3583888 , -0.78135407,  2.1038394 ,\n",
       "        1.7242771 ,  0.8008616 ,  2.5935442 ,  0.79591656, -0.89704025,\n",
       "        0.5601244 ,  0.36089098,  0.18254355, -0.77263534,  0.6828675 ,\n",
       "       -0.5849576 ,  0.8753326 , -0.83386314,  1.0273709 , -0.513419  ,\n",
       "       -2.7398622 ,  2.0545893 , -0.05671714, -2.4763231 ,  2.230262  ,\n",
       "       -1.7828513 ,  0.29401657, -0.29633468, -0.7873716 , -0.00786212,\n",
       "        1.4897367 ,  1.7901433 , -0.9707936 ,  0.46439907, -0.88615555,\n",
       "       -0.8578702 , -0.29889932, -1.7336886 , -1.6919153 ,  0.11294585,\n",
       "        0.07943591,  2.2997155 , -1.6788449 , -0.47338694], dtype=float32)"
      ]
     },
     "execution_count": 20,
     "metadata": {},
     "output_type": "execute_result"
    }
   ],
   "source": [
    "mod.trainables.syn1[p].sum(axis=0)"
   ]
  },
  {
   "cell_type": "code",
   "execution_count": null,
   "metadata": {},
   "outputs": [],
   "source": []
  }
 ],
 "metadata": {
  "kernelspec": {
   "display_name": "Python 3",
   "language": "python",
   "name": "python3"
  },
  "language_info": {
   "codemirror_mode": {
    "name": "ipython",
    "version": 3
   },
   "file_extension": ".py",
   "mimetype": "text/x-python",
   "name": "python",
   "nbconvert_exporter": "python",
   "pygments_lexer": "ipython3",
   "version": "3.6.8"
  },
  "pycharm": {
   "stem_cell": {
    "cell_type": "raw",
    "metadata": {
     "collapsed": false
    },
    "source": []
   }
  }
 },
 "nbformat": 4,
 "nbformat_minor": 1
}
